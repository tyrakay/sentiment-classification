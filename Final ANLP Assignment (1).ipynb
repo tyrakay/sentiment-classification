{
 "cells": [
  {
   "cell_type": "markdown",
   "metadata": {
    "id": "f2S8I2ny-ovS"
   },
   "source": [
    "# ANLP Assignment: Sentiment Classification\n",
    "\n",
    "In this assignment, you will be investigating NLP methods for distinguishing positive and negative reviews written about movies.\n",
    "\n",
    "For assessment, you are expected to complete and submit this notebook file.  When answers require code, you may import and use library functions (unless explicitly told otherwise).  All of your own code should be included in the notebook rather than imported from elsewhere.  Written answers should also be included in the notebook.  You should insert as many extra cells as you want and change the type between code and markdown as appropriate.\n",
    "\n",
    "In order to avoid misconduct, you should not talk about the assignment questions with your peers.  If you are not sure what a question is asking you to do or have any other questions, please ask me or one of the Teaching Assistants.\n",
    "\n",
    "Marking guidelines are provided as a separate document.\n",
    "\n",
    "The first few cells contain code to set-up the assignment and bring in some data.   In order to provide unique datasets for analysis by different students, you must enter your candidate number in the following cell.  Otherwise do not change the code in these cells."
   ]
  },
  {
   "cell_type": "code",
   "execution_count": 10,
   "metadata": {
    "id": "1gXQAZas-l9c"
   },
   "outputs": [],
   "source": [
    "candidateno=277161 #this MUST be updated to your candidate number so that you get a unique data sample\n"
   ]
  },
  {
   "cell_type": "code",
   "execution_count": 6,
   "metadata": {
    "colab": {
     "base_uri": "https://localhost:8080/"
    },
    "id": "nk8JTP88A8vs",
    "outputId": "5ce22518-19d8-4c38-b8f9-13732a3c7a44"
   },
   "outputs": [
    {
     "name": "stderr",
     "output_type": "stream",
     "text": [
      "[nltk_data] Downloading package punkt to\n",
      "[nltk_data]     /Users/tyrakoranteng/nltk_data...\n",
      "[nltk_data]   Package punkt is already up-to-date!\n",
      "[nltk_data] Downloading package stopwords to\n",
      "[nltk_data]     /Users/tyrakoranteng/nltk_data...\n",
      "[nltk_data]   Package stopwords is already up-to-date!\n",
      "[nltk_data] Downloading package movie_reviews to\n",
      "[nltk_data]     /Users/tyrakoranteng/nltk_data...\n",
      "[nltk_data]   Package movie_reviews is already up-to-date!\n"
     ]
    }
   ],
   "source": [
    "import nltk\n",
    "nltk.download('punkt')\n",
    "nltk.download('stopwords')\n",
    "nltk.download('movie_reviews')\n",
    "from nltk.corpus import stopwords\n",
    "from nltk.tokenize import word_tokenize\n",
    "from nltk.corpus import movie_reviews\n",
    "import random\n",
    "import re\n",
    "import pandas as pd\n",
    "import matplotlib.pyplot as plt\n",
    "%matplotlib inline\n",
    "from itertools import zip_longest\n",
    "from nltk.probability import FreqDist\n",
    "from nltk.classify.api import ClassifierI\n"
   ]
  },
  {
   "cell_type": "code",
   "execution_count": 7,
   "metadata": {
    "id": "BHBkzAccCVaZ"
   },
   "outputs": [],
   "source": [
    "def split_data(data, ratio=0.7): # when the second argument is not given, it defaults to 0.7\n",
    "    \"\"\"\n",
    "    Given corpus generator and ratio:\n",
    "     - partitions the corpus into training data and test data, where the proportion in train is ratio,\n",
    "\n",
    "    :param data: A corpus generator.\n",
    "    :param ratio: The proportion of training documents (default 0.7)\n",
    "    :return: a pair (tuple) of lists where the first element of the\n",
    "            pair is a list of the training data and the second is a list of the test data.\n",
    "    \"\"\"\n",
    "\n",
    "    data = list(data)\n",
    "    n = len(data)\n",
    "    train_indices = random.sample(range(n), int(n * ratio))\n",
    "    test_indices = list(set(range(n)) - set(train_indices))\n",
    "    train = [data[i] for i in train_indices]\n",
    "    test = [data[i] for i in test_indices]\n",
    "    return (train, test)\n",
    "\n",
    "\n",
    "def get_train_test_data():\n",
    "\n",
    "    #get ids of positive and negative movie reviews\n",
    "    pos_review_ids=movie_reviews.fileids('pos')\n",
    "    neg_review_ids=movie_reviews.fileids('neg')\n",
    "\n",
    "    #split positive and negative data into training and testing sets\n",
    "    pos_train_ids, pos_test_ids = split_data(pos_review_ids)\n",
    "    neg_train_ids, neg_test_ids = split_data(neg_review_ids)\n",
    "    #add labels to the data and concatenate\n",
    "    training = [(movie_reviews.words(f),'pos') for f in pos_train_ids]+[(movie_reviews.words(f),'neg') for f in neg_train_ids]\n",
    "    testing = [(movie_reviews.words(f),'pos') for f in pos_test_ids]+[(movie_reviews.words(f),'neg') for f in neg_test_ids]\n",
    "\n",
    "    return training, testing"
   ]
  },
  {
   "cell_type": "markdown",
   "metadata": {
    "id": "1N3LWwBYICPP"
   },
   "source": [
    "When you have run the cell below, your unique training and testing samples will be stored in `training_data` and `testing_data`"
   ]
  },
  {
   "cell_type": "code",
   "execution_count": 11,
   "metadata": {
    "id": "HJLegkdPFUJA"
   },
   "outputs": [
    {
     "name": "stdout",
     "output_type": "stream",
     "text": [
      "The amount of training data is 1400\n",
      "The amount of testing data is 600\n",
      "The representation of a single data item is below\n",
      "(['bob', 'the', 'happy', 'bastard', \"'\", 's', 'quickie', ...], 'pos')\n"
     ]
    }
   ],
   "source": [
    "#do not change the code in this cell\n",
    "random.seed(candidateno)\n",
    "training_data,testing_data=get_train_test_data()\n",
    "print(\"The amount of training data is {}\".format(len(training_data)))\n",
    "print(\"The amount of testing data is {}\".format(len(testing_data)))\n",
    "print(\"The representation of a single data item is below\")\n",
    "print(training_data[0])"
   ]
  },
  {
   "cell_type": "markdown",
   "metadata": {
    "id": "RbTq6eGv2XT2"
   },
   "source": [
    "1)  \n",
    "a) **Generate** a list of 10 content words which are representative of the positive reviews in your training data.\n",
    "\n",
    "b) **Generate** a list of 10 content words which are representative of the negative reviews in your training data.\n",
    "\n",
    "c) **Explain** what you have done and why\n",
    "\n",
    "[20\\%]"
   ]
  },
  {
   "cell_type": "code",
   "execution_count": 12,
   "metadata": {
    "id": "JXHrtNCg2XT4",
    "scrolled": true
   },
   "outputs": [
    {
     "name": "stdout",
     "output_type": "stream",
     "text": [
      "10 Representative Content Words in Positive Reviews:\n",
      "['film', 'one', 'movie', 'like', 'good', 'story', 'also', 'time', 'even', 'well']\n"
     ]
    }
   ],
   "source": [
    "from nltk.probability import FreqDist\n",
    "from nltk.corpus import stopwords\n",
    "import string\n",
    "\n",
    "\n",
    " # Convert each word to lowercase and remove punctuation\n",
    "def preprocess_words(words):\n",
    "    \n",
    "    remove_punctuation = [word.lower() for word in words if word.isalpha()]\n",
    "    \n",
    "# Filter out stop words from the list of words    \n",
    "    stop_words = set(stopwords.words('english'))\n",
    "    content_words = [word for word in remove_punctuation if word not in stop_words]\n",
    "    \n",
    "    return content_words\n",
    "\n",
    "# Create an empty list to store positive words\n",
    "positive_words = []\n",
    "\n",
    "# Iterate through training data, extract positive words, and preprocess them\n",
    "for words, label in training_data:\n",
    "    if label == 'pos':\n",
    "        positive_words.extend(preprocess_words(words))\n",
    "\n",
    "# Create a frequency distribution of positive words\n",
    "positive_freq_dist = FreqDist(positive_words)\n",
    "\n",
    "\n",
    "positive_content_words = [word for word, _ in positive_freq_dist.most_common(10)]\n",
    "\n",
    "print(\"10 Representative Content Words in Positive Reviews:\")\n",
    "print(positive_content_words)\n",
    "\n"
   ]
  },
  {
   "cell_type": "code",
   "execution_count": 13,
   "metadata": {
    "id": "gvFu36xZ2XT5"
   },
   "outputs": [
    {
     "name": "stdout",
     "output_type": "stream",
     "text": [
      "10 Representative Content Words in Negative Reviews:\n",
      "['film', 'movie', 'one', 'like', 'even', 'good', 'time', 'get', 'would', 'much']\n"
     ]
    }
   ],
   "source": [
    "from nltk.probability import FreqDist\n",
    "from nltk.corpus import stopwords\n",
    "import string\n",
    "\n",
    "\n",
    " # Convert each word to lowercase and remove punctuation\n",
    "def preprocess_words(words):\n",
    "    \n",
    "    remove_punctuation = [word.lower() for word in words if word.isalpha()]\n",
    "    \n",
    "# Filter out stop words from the list of words                \n",
    "    stop_words = set(stopwords.words('english'))\n",
    "    content_words = [word for word in remove_punctuation if word not in stop_words]\n",
    "    \n",
    "    return content_words\n",
    "\n",
    "# Create an empty list to store negative words\n",
    "negative_words = []\n",
    "\n",
    "# Iterate through training data, extract negative words, and preprocess them\n",
    "for words, label in training_data:\n",
    "    if label == 'neg':\n",
    "        negative_words.extend(preprocess_words(words))\n",
    "\n",
    "# Create a frequency distribution of negative words\n",
    "negative_freq_dist = FreqDist(negative_words)\n",
    "\n",
    "\n",
    "negative_content_words = [word for word, _ in negative_freq_dist.most_common(10)]\n",
    "\n",
    "print(\"10 Representative Content Words in Negative Reviews:\")\n",
    "print(negative_content_words)\n",
    "\n",
    "\n"
   ]
  },
  {
   "cell_type": "markdown",
   "metadata": {
    "id": "RgePc9hV2XT_"
   },
   "source": [
    "This code extracts words from positive/negative reviews while preprocessing them, removing punctuation, converting to lowercase, and filtering out stopwords. This allows us to focus on words that are likely to represent the content of positive reviews without noise from punctuation and common words.\n",
    "\n",
    "We iterate through the training_data dataset, which contains pairs of words and labels.\n",
    "We check the label of each data point to filter for positive and negative reviews i.e. label == 'pos' & label == 'neg' respectively.\n",
    "For each positive/negative review, we extend the positive/negative words list with the preprocessed and cleaned words.\n",
    "\n",
    "\n"
   ]
  },
  {
   "cell_type": "markdown",
   "metadata": {
    "id": "JauTzY5N2XUB"
   },
   "source": []
  },
  {
   "cell_type": "markdown",
   "metadata": {
    "id": "TApOQE6vND20"
   },
   "source": [
    "2)\n",
    "a) **Use** the lists generated in Q1 to build a **word list classifier** which will classify reviews as being positive or negative.\n",
    "\n",
    "b) **Explain** what you have done.\n",
    "\n",
    "[12.5\\%]\n"
   ]
  },
  {
   "cell_type": "code",
   "execution_count": 14,
   "metadata": {
    "id": "BThDMrcmODJy"
   },
   "outputs": [
    {
     "name": "stdout",
     "output_type": "stream",
     "text": [
      "Review 1: Classified as positive\n",
      "Review 2: Classified as None\n"
     ]
    }
   ],
   "source": [
    "# Representative words for positive and negative reviews\n",
    "positive_words = ['film', 'one', 'movie', 'like', 'good', 'story', 'also', 'time', 'even', 'well']\n",
    "negative_words = ['film', 'movie', 'one', 'like', 'even', 'good', 'time', 'get', 'would', 'much']\n",
    "\n",
    "# Function to classify a review as positive or negative\n",
    "def classify_review(review, positive_words, negative_words):\n",
    "    positive_count = sum(1 for word in review if word in positive_words)\n",
    "    negative_count = sum(1 for word in review if word in negative_words)\n",
    "    \n",
    "    if positive_count > negative_count:\n",
    "        return 'positive'\n",
    "    elif negative_count > positive_count:\n",
    "        return 'negative'\n",
    "    \n",
    "\n",
    "# Example reviews\n",
    "review1 = ['good', 'movie', 'enjoyed', 'story']\n",
    "review2 = ['boring', 'time', 'poor', 'plot']\n",
    "\n",
    "\n",
    "# Classify example reviews\n",
    "result1 = classify_review(review1, positive_words, negative_words)\n",
    "result2 = classify_review(review2, positive_words, negative_words)\n",
    "\n",
    "\n",
    "\n",
    "print(\"Review 1: Classified as\", result1)\n",
    "print(\"Review 2: Classified as\", result2)\n",
    "\n"
   ]
  },
  {
   "cell_type": "code",
   "execution_count": 15,
   "metadata": {},
   "outputs": [
    {
     "name": "stdout",
     "output_type": "stream",
     "text": [
      "The review is classified as: pos\n"
     ]
    }
   ],
   "source": [
    "from nltk.classify.api import ClassifierI\n",
    "from nltk import FreqDist\n",
    "\n",
    "class SimpleClassifier(ClassifierI): \n",
    "    def __init__(self, pos, neg): \n",
    "        # Initialize the SimpleClassifier with positive and negative word lists\n",
    "        self._pos = set(pos) \n",
    "        self._neg = set(neg)\n",
    "\n",
    "    def classify(self, words): \n",
    "         # Calculate a score based on the presence of words in positive and negative lists\n",
    "        score = sum(1 if word in self._pos else -1 if word in self._neg else 0 for word in words)\n",
    "        \n",
    "        # Classify the review as \"pos\" if the score is positive, otherwise \"neg\"\n",
    "        return \"pos\" if score > 0 else \"neg\"\n",
    "\n",
    "    def labels(self): \n",
    "         # Return the labels used by the classifier (\"pos\" and \"neg\")\n",
    "        return (\"pos\", \"neg\")\n",
    "\n",
    "# Example usage\n",
    "positive_words = ['film', 'one', 'movie', 'like', 'good', 'story', 'also', 'time', 'even', 'well']\n",
    "negative_words = ['film', 'movie', 'one', 'like', 'even', 'good', 'time', 'get', 'would', 'much']\n",
    "\n",
    "# Create an instance of the SimpleClassifier\n",
    "classifier = SimpleClassifier(positive_words, negative_words)\n",
    "\n",
    "# Example classification\n",
    "review_text = \"This movie was great\"\n",
    "words_in_review = review_text.lower().split()  # assuming you want case-insensitive matching\n",
    "classification = classifier.classify(words_in_review)\n",
    "print(f\"The review is classified as: {classification}\")\n"
   ]
  },
  {
   "cell_type": "markdown",
   "metadata": {},
   "source": [
    "This code defines a simple sentiment classifier, `SimpleClassifier`, as a subclass of the NLTK `ClassifierI`. It is initialized with two sets of words, one representing positive sentiments (`_pos`) and the other negative sentiments (`_neg`). \n",
    "\n",
    "The `classify` method takes a list of words as input, assigns a score based on the presence of words in the positive and negative sets, and classifies the input as \"pos\" if the score is positive and \"neg\" otherwise. \n",
    "\n",
    "The `labels` method returns the possible classification labels used by the classifier, which are \"pos\" and \"neg.\" \n",
    "\n",
    "This classifier operates on the basic principle of counting positive and negative words in a given text to determine its sentiment."
   ]
  },
  {
   "cell_type": "markdown",
   "metadata": {
    "id": "C6vK5Vyz2XUF"
   },
   "source": []
  },
  {
   "cell_type": "markdown",
   "metadata": {
    "id": "YZdDO_Y92XUH"
   },
   "source": [
    "3)\n",
    "a) **Calculate** the accuracy, precision, recall and F1 score of your classifier.\n",
    "\n",
    "b) Is it reasonable to evaluate the classifier in terms of its accuracy?  **Explain** your answer and give a counter-example (a scenario where it would / would not be reasonable to evaluate the classifier in terms of its accuracy).\n",
    "\n",
    "[20\\%]"
   ]
  },
  {
   "cell_type": "code",
   "execution_count": 16,
   "metadata": {
    "id": "1LQc8bsA2XUI"
   },
   "outputs": [
    {
     "name": "stdout",
     "output_type": "stream",
     "text": [
      "Classifier Accuracy: 49.83%\n"
     ]
    }
   ],
   "source": [
    "def classifier_evaluate(cls, testing_data):\n",
    "    acc = 0\n",
    "    docs, gold_standard = zip(*testing_data)\n",
    "\n",
    "    # Pass all of the docs to the classifier and get back a list of predictions\n",
    "    predictions = cls.classify_many(docs)\n",
    "\n",
    "    # Zip the predictions with the gold standard labels and compare\n",
    "    for prediction, gold_label in zip(predictions, gold_standard):\n",
    "        if prediction == gold_label:\n",
    "            acc += 1\n",
    "\n",
    "    return acc / len(testing_data)\n",
    "\n",
    "#Calculate accuracy\n",
    "accuracy = classifier_evaluate(classifier, testing_data)\n",
    "print(f\"Classifier Accuracy: {accuracy:.2%}\")\n"
   ]
  },
  {
   "cell_type": "code",
   "execution_count": 17,
   "metadata": {
    "id": "R_i80ceP2XUJ"
   },
   "outputs": [
    {
     "name": "stdout",
     "output_type": "stream",
     "text": [
      "Precision: 49.92%\n",
      "Recall: 99.33%\n",
      "F1 Score: 66.44%\n"
     ]
    }
   ],
   "source": [
    "class ConfusionMatrix:\n",
    "    def __init__(self, predictions, gold_standard, classes=(\"pos\", \"neg\")):\n",
    "        \n",
    "        # Initialize the ConfusionMatrix object with predicted and actual labels\n",
    "        (self.c1, self.c2) = classes\n",
    "        \n",
    "        self.TP = 0 # True Positives (correctly predicted positive instances)\n",
    "        self.FP = 0 # False Positives (incorrectly predicted positive instances)\n",
    "        self.FN = 0 # False Negatives (incorrectly predicted negative instances)\n",
    "        self.TN = 0 # True Negatives (correctly predicted negative instances)\n",
    "\n",
    "        for p, g in zip(predictions, gold_standard):\n",
    "            if g == self.c1:\n",
    "                if p == self.c1:\n",
    "                    self.TP += 1\n",
    "                else:\n",
    "                    self.FN += 1\n",
    "            elif p == self.c1:\n",
    "                self.FP += 1\n",
    "            else:\n",
    "                self.TN += 1\n",
    "\n",
    "    def precision(self):\n",
    "        # Precision is the ratio of correctly predicted positive observations to the total predicted positives\n",
    "        return self.TP / (self.TP + self.FP) if (self.TP + self.FP) != 0 else 0\n",
    "\n",
    "    def recall(self):\n",
    "        # Recall is the ratio of correctly predicted positive observations to all the actual positives\n",
    "        return self.TP / (self.TP + self.FN) if (self.TP + self.FN) != 0 else 0\n",
    "\n",
    "    def f1(self):\n",
    "        # F1 Score is the weighted average of Precision and Recall\n",
    "        precision = self.precision()\n",
    "        recall = self.recall()\n",
    "        return (2 * precision * recall) / (precision + recall) if (precision + recall) != 0 else 0\n",
    "    \n",
    "\n",
    "docs, gold_standard = zip(*testing_data)\n",
    "\n",
    "# Pass all of the docs to the classifier and get back a list of predictions\n",
    "predictions = classifier.classify_many(docs)\n",
    "\n",
    "# Create a ConfusionMatrix instance\n",
    "conf_matrix = ConfusionMatrix(predictions, gold_standard)\n",
    "\n",
    "# Calculate precision, recall, and F1 score\n",
    "precision = conf_matrix.precision()\n",
    "recall = conf_matrix.recall()\n",
    "f1_score = conf_matrix.f1()\n",
    "\n",
    "print(f\"Precision: {precision:.2%}\")\n",
    "print(f\"Recall: {recall:.2%}\")\n",
    "print(f\"F1 Score: {f1_score:.2%}\")\n"
   ]
  },
  {
   "cell_type": "code",
   "execution_count": 18,
   "metadata": {
    "id": "VbYwwhcs2XUL"
   },
   "outputs": [
    {
     "name": "stdout",
     "output_type": "stream",
     "text": [
      "Class Distribution in Training Data:\n",
      "{'pos': 700, 'neg': 700}\n",
      "\n",
      "Class Distribution in Testing Data:\n",
      "{'pos': 300, 'neg': 300}\n"
     ]
    }
   ],
   "source": [
    "def calculate_class_distribution(data):\n",
    "    class_counts = {}\n",
    "    \n",
    "    for _, label in data:\n",
    "        if label in class_counts:\n",
    "            class_counts[label] += 1\n",
    "        else:\n",
    "            class_counts[label] = 1\n",
    "\n",
    "    return class_counts\n",
    "\n",
    "\n",
    "training_class_distribution = calculate_class_distribution(training_data)\n",
    "testing_class_distribution = calculate_class_distribution(testing_data)\n",
    "\n",
    "print(\"Class Distribution in Training Data:\")\n",
    "print(training_class_distribution)\n",
    "\n",
    "print(\"\\nClass Distribution in Testing Data:\")\n",
    "print(testing_class_distribution)\n"
   ]
  },
  {
   "cell_type": "markdown",
   "metadata": {},
   "source": [
    "Given the provided class distributions, where both the training and testing datasets have approximately equal representation of positive ('pos') and negative ('neg') instances, it is reasonable to evaluate the classifier in terms of accuracy. The balanced nature of the datasets allows accuracy to provide a meaningful overall assessment of the classifier's performance, as it considers both classes equally.\n",
    "\n",
    "In this case, accuracy would give a fair representation of how well the classifier is performing across both positive and negative instances. The classifier's ability to correctly classify instances from both classes would be reflected accurately in the accuracy metric.\n",
    "\n",
    "Counterexample where Accuracy might not be Reasonable:\n",
    "If the class distribution were heavily imbalanced, with a significant majority of instances belonging to one class, accuracy might not be a suitable metric. For instance, if 90% of instances were labeled as 'pos' and only 10% as 'neg', a classifier that predicts 'pos' for all instances could achieve a high accuracy (90%). However, such a model would not be useful, especially if the goal is to correctly identify instances of the minority class ('neg'). In imbalanced scenarios, precision, recall, and F1 score become more informative metrics for evaluating classifier performance, as they provide insights into how well the model handles the minority class."
   ]
  },
  {
   "cell_type": "markdown",
   "metadata": {
    "id": "AVZp0N5J2XUL"
   },
   "source": []
  },
  {
   "cell_type": "markdown",
   "metadata": {
    "id": "LIS9UpmJNEAp"
   },
   "source": [
    "4)\n",
    "a)  **Construct** a Naive Bayes classifier (e.g., from NLTK).\n",
    "\n",
    "b)  **Compare** the performance of your word list classifier with the Naive Bayes classifier.  **Discuss** your results.\n",
    "\n",
    "[12.5\\%]"
   ]
  },
  {
   "cell_type": "code",
   "execution_count": 19,
   "metadata": {
    "id": "Gwjig-Y12XUN"
   },
   "outputs": [
    {
     "name": "stdout",
     "output_type": "stream",
     "text": [
      "Naive Bayes Classifier Accuracy: 63.83%\n"
     ]
    }
   ],
   "source": [
    "from nltk import NaiveBayesClassifier\n",
    "from nltk.classify import accuracy\n",
    "\n",
    "\n",
    "\n",
    "# Feature extraction\n",
    "def extract_features(words):\n",
    "    return dict([(word, True) for word in words])\n",
    "\n",
    "# Prepare training and testing sets\n",
    "training_set = [(extract_features(words), label) for words, label in training_data]\n",
    "testing_set = [(extract_features(words), label) for words, label in testing_data]\n",
    "\n",
    "# Train the Naive Bayes classifier\n",
    "nb_classifier = NaiveBayesClassifier.train(training_set)\n",
    "\n",
    "# Evaluate the performance\n",
    "accuracy_nb = accuracy(nb_classifier, testing_set)\n",
    "\n",
    "print(f\"Naive Bayes Classifier Accuracy: {accuracy_nb:.2%}\")\n",
    "\n",
    "\n"
   ]
  },
  {
   "cell_type": "markdown",
   "metadata": {
    "id": "3AUsYRMa2XUN"
   },
   "source": [
    "The results indicate that the Naive Bayes classifier outperforms the word list classifier in terms of accuracy, achieving 63.83% accuracy compared to the word list classifier's accuracy of 49.83%. The Naive Bayes classifier, which leverages probabilistic modeling based on word features, demonstrates better overall predictive performance on the testing data."
   ]
  },
  {
   "cell_type": "markdown",
   "metadata": {
    "id": "bytPkuHf2XUO"
   },
   "source": []
  },
  {
   "cell_type": "markdown",
   "metadata": {
    "id": "LGDXaVDqOSfY"
   },
   "source": [
    "5)\n",
    "a) Design and **carry out an experiment** into the impact of the **length of the wordlists** on the wordlist classifier.  Make sure you **describe** design decisions in your experiment, include a **graph** of your results and **discuss** your conclusions.\n",
    "\n",
    "b) Would you **recommend** a wordlist classifier or a Naive Bayes classifier for future work in this area?  **Justify** your answer.\n",
    "\n",
    "[25\\%]\n"
   ]
  },
  {
   "cell_type": "markdown",
   "metadata": {
    "id": "UlxoUthX2XUP"
   },
   "source": []
  },
  {
   "cell_type": "markdown",
   "metadata": {
    "id": "T1L7mZ-k2XUQ"
   },
   "source": [
    "a. Experiment Design\n",
    "\n",
    "Objective: To investigate the impact of the length of word lists on the performance of the word list classifier.\n",
    "\n",
    "Variable: The independent variable is the length of the word lists used by the classifier. This variable will be manipulated to observe its impact on classifier performance (dependent variable).\n",
    "\n",
    "Classifier: Use the word list classifier (SimpleClassifier) with different word list lengths.\n",
    "\n",
    "Datasets: Utilize the training and testing datasets provided.\n",
    "\n",
    "Experiment Steps:\n",
    "\n",
    "1. Create word lists of varying lengths, ranging from a small number of representative words to more extensive lists (10 - 1000).\n",
    "\n",
    "2. Train the word list classifier with each set of word lists.\n",
    "\n",
    "3. Evaluate, record and analyze the classifier's accuracy on the testing dataset for each word list length.\n",
    "\n",
    "4. Interpret the plotted graph: Observe how accuracy changes with the length of the wordlist. Look for patterns or trends."
   ]
  },
  {
   "cell_type": "code",
   "execution_count": 38,
   "metadata": {
    "scrolled": false
   },
   "outputs": [
    {
     "name": "stdout",
     "output_type": "stream",
     "text": [
      "The accuracy of Word List Classifier (Size 10) is 0.49666666666666665\n",
      "The accuracy of Word List Classifier (Size 20) is 0.5466666666666666\n",
      "The accuracy of Word List Classifier (Size 50) is 0.5016666666666667\n",
      "The accuracy of Word List Classifier (Size 100) is 0.5\n",
      "The accuracy of Word List Classifier (Size 150) is 0.5\n",
      "The accuracy of Word List Classifier (Size 200) is 0.5\n",
      "The accuracy of Word List Classifier (Size 500) is 0.5\n",
      "The accuracy of Word List Classifier (Size 1000) is 0.5\n"
     ]
    },
    {
     "data": {
      "text/html": [
       "<div>\n",
       "<style scoped>\n",
       "    .dataframe tbody tr th:only-of-type {\n",
       "        vertical-align: middle;\n",
       "    }\n",
       "\n",
       "    .dataframe tbody tr th {\n",
       "        vertical-align: top;\n",
       "    }\n",
       "\n",
       "    .dataframe thead th {\n",
       "        text-align: right;\n",
       "    }\n",
       "</style>\n",
       "<table border=\"1\" class=\"dataframe\">\n",
       "  <thead>\n",
       "    <tr style=\"text-align: right;\">\n",
       "      <th></th>\n",
       "      <th>Word List Size</th>\n",
       "      <th>Accuracy</th>\n",
       "    </tr>\n",
       "  </thead>\n",
       "  <tbody>\n",
       "    <tr>\n",
       "      <th>0</th>\n",
       "      <td>10</td>\n",
       "      <td>0.496667</td>\n",
       "    </tr>\n",
       "    <tr>\n",
       "      <th>1</th>\n",
       "      <td>20</td>\n",
       "      <td>0.546667</td>\n",
       "    </tr>\n",
       "    <tr>\n",
       "      <th>2</th>\n",
       "      <td>50</td>\n",
       "      <td>0.501667</td>\n",
       "    </tr>\n",
       "    <tr>\n",
       "      <th>3</th>\n",
       "      <td>100</td>\n",
       "      <td>0.500000</td>\n",
       "    </tr>\n",
       "    <tr>\n",
       "      <th>4</th>\n",
       "      <td>150</td>\n",
       "      <td>0.500000</td>\n",
       "    </tr>\n",
       "    <tr>\n",
       "      <th>5</th>\n",
       "      <td>200</td>\n",
       "      <td>0.500000</td>\n",
       "    </tr>\n",
       "    <tr>\n",
       "      <th>6</th>\n",
       "      <td>500</td>\n",
       "      <td>0.500000</td>\n",
       "    </tr>\n",
       "    <tr>\n",
       "      <th>7</th>\n",
       "      <td>1000</td>\n",
       "      <td>0.500000</td>\n",
       "    </tr>\n",
       "  </tbody>\n",
       "</table>\n",
       "</div>"
      ],
      "text/plain": [
       "   Word List Size  Accuracy\n",
       "0              10  0.496667\n",
       "1              20  0.546667\n",
       "2              50  0.501667\n",
       "3             100  0.500000\n",
       "4             150  0.500000\n",
       "5             200  0.500000\n",
       "6             500  0.500000\n",
       "7            1000  0.500000"
      ]
     },
     "metadata": {},
     "output_type": "display_data"
    },
    {
     "data": {
      "image/png": "[encoded data removed]",
      "text/plain": [
       "<Figure size 800x600 with 1 Axes>"
      ]
     },
     "metadata": {},
     "output_type": "display_data"
    }
   ],
   "source": [
    "import pandas as pd\n",
    "import matplotlib.pyplot as plt\n",
    "\n",
    "# Experiment parameters\n",
    "word_list_sizes = [10, 20, 50, 100, 150, 200, 500, 1000]\n",
    "results = []\n",
    "\n",
    "# Get the training and testing data\n",
    "training_data, testing_data = get_train_test_data()\n",
    "\n",
    "# Perform the experiment for different word list sizes\n",
    "for size in word_list_sizes:\n",
    "    # Convert StreamBackedCorpusView to list before sampling\n",
    "    positive_words = random.sample(list(movie_reviews.words(categories='pos')), size)\n",
    "    negative_words = random.sample(list(movie_reviews.words(categories='neg')), size)\n",
    "\n",
    "    classifier = SimpleClassifier(positive_words[:size], negative_words[:size])\n",
    "    accuracy = classifier_evaluate(classifier, testing_data)\n",
    "\n",
    "\n",
    "    print(\"The accuracy of Word List Classifier (Size {}) is {}\".format(size, accuracy))\n",
    "    results.append((size, accuracy))\n",
    "\n",
    "# Create a DataFrame and plot the results\n",
    "df = pd.DataFrame(results, columns=['Word List Size', 'Accuracy'])\n",
    "display(df)\n",
    "\n",
    "# Plot the results\n",
    "plt.figure(figsize=(8, 6))\n",
    "plt.bar(df['Word List Size'], df['Accuracy'])\n",
    "plt.title(\"Impact of Word List Size on Classifier Accuracy\")\n",
    "plt.xlabel(\"Word List Size\")\n",
    "plt.ylabel(\"Classifier Accuracy\")\n",
    "plt.ylim(0, 1.0)\n",
    "plt.show()\n"
   ]
  },
  {
   "cell_type": "markdown",
   "metadata": {},
   "source": [
    "Experiment Conclusions: \n",
    "\n",
    "Initially, as the size of the word list increases from 10 to 20, there is a noticeable improvement in accuracy. However, beyond size 20, the accuracy remains relatively stable, hovering around 0.5. This suggests that the classifier's performance plateaus, indicating that the classifier is performing no better than random chance, and adding more words beyond a certain threshold doesn't significantly enhance its accuracy. \n",
    "\n",
    "It is important to note that accuracy alone may not provide a comprehensive evaluation, and future considerations should involve exploring additional performance metrics such as precision, recall, and F1 score. These metrics can provide a more nuanced understanding of the classifier's strengths and weaknesses, particularly in handling false positives and false negatives. \n",
    "\n",
    "Additionally, investigating the impact of different feature extraction methods or incorporating more sophisticated classifiers could contribute to refining the model further."
   ]
  },
  {
   "cell_type": "markdown",
   "metadata": {},
   "source": [
    "b. For future work in the area of sentiment analysis, a Naive Bayes classifier is recommended over a wordlist classifier. While wordlist classifiers are simple and intuitive, they often lack the ability to capture the nuanced relationships and context-dependent nature of language. \n",
    "\n",
    "Naive Bayes classifiers, on the other hand, can leverage statistical patterns in the data and consider the joint probabilities of words, making them more adaptable to varying linguistic structures. They can handle a larger feature space and are better equipped to generalize from the training data to make predictions on unseen examples. \n",
    "\n",
    "Additionally, Naive Bayes classifiers inherently account for the likelihood of word co-occurrences, providing a more sophisticated approach to sentiment analysis that can yield improved accuracy and generalization in the classification of positive and negative sentiments."
   ]
  },
  {
   "cell_type": "markdown",
   "metadata": {
    "id": "Ym-TGvYS2XUR"
   },
   "source": []
  },
  {
   "cell_type": "code",
   "execution_count": 43,
   "metadata": {
    "colab": {
     "base_uri": "https://localhost:8080/"
    },
    "id": "34rdlS_iPov6",
    "outputId": "5465e8f3-ec02-4ff6-b326-0bf15c507b73",
    "scrolled": true
   },
   "outputs": [
    {
     "name": "stdout",
     "output_type": "stream",
     "text": [
      "Submission length is 862\n"
     ]
    }
   ],
   "source": [
    "##This code will word count all of the markdown cells in the notebook saved at filepath\n",
    "\n",
    "import io\n",
    "from nbformat import current\n",
    "\n",
    "\n",
    "filepath=\"/Users/tyrakoranteng/Downloads/ANLP Assignment (1).ipynb\"\n",
    "question_count=432\n",
    "\n",
    "with io.open(filepath, 'r', encoding='utf-8') as f:\n",
    "    nb = current.read(f, 'json')\n",
    "\n",
    "word_count = 0\n",
    "for cell in nb.worksheets[0].cells:\n",
    "    if cell.cell_type == \"markdown\":\n",
    "        word_count += len(cell['source'].replace('#', '').lstrip().split(' '))\n",
    "print(\"Submission length is {}\".format(word_count-question_count))"
   ]
  },
  {
   "cell_type": "code",
   "execution_count": null,
   "metadata": {},
   "outputs": [],
   "source": []
  }
 ],
 "metadata": {
  "colab": {
   "provenance": []
  },
  "kernelspec": {
   "display_name": "Python 3 (ipykernel)",
   "language": "python",
   "name": "python3"
  },
  "language_info": {
   "codemirror_mode": {
    "name": "ipython",
    "version": 3
   },
   "file_extension": ".py",
   "mimetype": "text/x-python",
   "name": "python",
   "nbconvert_exporter": "python",
   "pygments_lexer": "ipython3",
   "version": "3.11.4"
  }
 },
 "nbformat": 4,
 "nbformat_minor": 1
}
